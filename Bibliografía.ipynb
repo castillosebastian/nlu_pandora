{
  "nbformat": 4,
  "nbformat_minor": 0,
  "metadata": {
    "colab": {
      "name": "Bibliografía.ipynb",
      "provenance": [],
      "authorship_tag": "ABX9TyO3zHj3JDWkhtHKBNuYmUpO",
      "include_colab_link": true
    },
    "kernelspec": {
      "name": "python3",
      "display_name": "Python 3"
    }
  },
  "cells": [
    {
      "cell_type": "markdown",
      "metadata": {
        "id": "view-in-github",
        "colab_type": "text"
      },
      "source": [
        "<a href=\"https://colab.research.google.com/github/castillosebastian/nlu_pandora/blob/master/Bibliograf%C3%ADa.ipynb\" target=\"_parent\"><img src=\"https://colab.research.google.com/assets/colab-badge.svg\" alt=\"Open In Colab\"/></a>"
      ]
    },
    {
      "cell_type": "markdown",
      "metadata": {
        "id": "7Hg7YNnU_e0Q"
      },
      "source": [
        "# Listado Bibliográfico Comentado"
      ]
    },
    {
      "cell_type": "markdown",
      "metadata": {
        "id": "gx44Ye7d_jBP"
      },
      "source": [
        "- The design and implementation of Language Learning Chatbot with XAI using Ontology and Transfer Learning, Nuobei Shi, Qin Zeng, Raymond Lee, [link](https://drive.google.com/file/d/16Te69mSXF6CF7hgSVp1k67JqbjZztCjB/view?usp=sharing)"
      ]
    }
  ]
}