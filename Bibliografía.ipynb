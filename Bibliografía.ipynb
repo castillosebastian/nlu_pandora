{
  "nbformat": 4,
  "nbformat_minor": 0,
  "metadata": {
    "colab": {
      "name": "Bibliografía.ipynb",
      "provenance": [],
      "authorship_tag": "ABX9TyOg1hXY1/s1S6Kl8J3KqXki",
      "include_colab_link": true
    },
    "kernelspec": {
      "name": "python3",
      "display_name": "Python 3"
    }
  },
  "cells": [
    {
      "cell_type": "markdown",
      "metadata": {
        "id": "view-in-github",
        "colab_type": "text"
      },
      "source": [
        "<a href=\"https://colab.research.google.com/github/castillosebastian/nlu_pandora/blob/master/Bibliograf%C3%ADa.ipynb\" target=\"_parent\"><img src=\"https://colab.research.google.com/assets/colab-badge.svg\" alt=\"Open In Colab\"/></a>"
      ]
    },
    {
      "cell_type": "markdown",
      "metadata": {
        "id": "7Hg7YNnU_e0Q"
      },
      "source": [
        "# Listado Bibliográfico Comentado"
      ]
    },
    {
      "cell_type": "markdown",
      "metadata": {
        "id": "_yOuiQ20KweY"
      },
      "source": [
        "Estado del arte, ver:\n",
        "- nlp legal text o https://arxiv.org/search/?query=nlp+legal+text&searchtype=all&abstracts=show&order=-announced_date_first&size=50"
      ]
    },
    {
      "cell_type": "markdown",
      "metadata": {
        "id": "gx44Ye7d_jBP"
      },
      "source": [
        "Artículos \n",
        "- ParlAI: A Dialog Research Software Platform Alexander, (Facebook), H. Miller [link](https://arxiv.org/abs/1705.06476)\n",
        "- Recipes for building an open-domain chatbot, (Facebook), Stephen Rolle [link](https://arxiv.org/abs/2004.13637)\n",
        "\n",
        "- The design and implementation of Language Learning Chatbot with XAI using Ontology and Transfer Learning, Nuobei Shi, Qin Zeng, Raymond Lee, [link](https://drive.google.com/file/d/16Te69mSXF6CF7hgSVp1k67JqbjZztCjB/view?usp=sharing)\n",
        "- Legal Document Classification: An Application to Law Area Prediction of Petitions to Public Prosecution Service, Noguti, [link](https://drive.google.com/file/d/1WTiyJm14hC1dLefrDv94KAKqA13komix/view?usp=sharing)\n",
        "- Topic Discovery in Massive Text Corpora Based on\n",
        "Min-Hashing, Gibran Fuentes-Pinedaa [link](https://arxiv.org/pdf/1807.00938.pdf)"
      ]
    }
  ]
}